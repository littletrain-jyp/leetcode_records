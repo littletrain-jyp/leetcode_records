{
 "cells": [
  {
   "cell_type": "markdown",
   "id": "021764e2-242f-4dbe-8ab1-c8f1bb1d408b",
   "metadata": {},
   "source": [
    "# 数组"
   ]
  },
  {
   "cell_type": "markdown",
   "id": "5947ddb8-31ec-497d-94e4-f6a383fa2945",
   "metadata": {
    "jp-MarkdownHeadingCollapsed": true,
    "tags": []
   },
   "source": [
    "## 704 二分查找"
   ]
  },
  {
   "cell_type": "code",
   "execution_count": 6,
   "id": "1c0cd418-eef3-4ca4-af47-54aa97b91be0",
   "metadata": {},
   "outputs": [],
   "source": [
    "from typing import List\n",
    "# 解法1： 左闭右闭区间\n",
    "class Solution:\n",
    "    def search(self, nums: List[int], target: int) -> int:\n",
    "        left = 0\n",
    "        right = len(nums) - 1\n",
    "\n",
    "        # 左闭右闭区间\n",
    "        while(left <= right): # 因为left==right 是有意义的\n",
    "            mid = int((left + right)/2)\n",
    "            if target < nums[mid] :\n",
    "                right = mid - 1 # 因为当前的mid一定不是target了\n",
    "            elif target > nums[mid]:\n",
    "                left = mid + 1\n",
    "            else:\n",
    "                return mid\n",
    "        \n",
    "        return -1\n",
    "    \n",
    "# 解法2\n",
    "class Solution:\n",
    "    def search(self, nums: List[int], target: int) -> int:\n",
    "        left = 0\n",
    "        right = len(nums)\n",
    "\n",
    "        # 左闭右开区间\n",
    "        while(left < right): # 因为left==right 无意义的\n",
    "            mid = int((left + right)/2)\n",
    "            if target < nums[mid] :\n",
    "                right = mid #  下一个查询区间就不会比较当前的mid了\n",
    "            elif target > nums[mid]:\n",
    "                left = mid + 1\n",
    "            else:\n",
    "                return mid\n",
    "        \n",
    "        return -1\n",
    "\"\"\"\n",
    "关键点是理清区间的定义。\n",
    "\"\"\""
   ]
  },
  {
   "cell_type": "code",
   "execution_count": null,
   "id": "8412a199-ddad-4083-94d4-328442578bc0",
   "metadata": {},
   "outputs": [],
   "source": []
  },
  {
   "cell_type": "markdown",
   "id": "2b489b34-e92d-4574-bbb5-4ed796cc6973",
   "metadata": {},
   "source": [
    "### 35 搜索插入位置"
   ]
  },
  {
   "cell_type": "code",
   "execution_count": 7,
   "id": "2334933a-bc44-4f50-ace4-6cacd9bfe461",
   "metadata": {},
   "outputs": [],
   "source": [
    "class Solution:\n",
    "    def searchInsert(self, nums: List[int], target: int) -> int:\n",
    "        left = 0\n",
    "        right = len(nums) - 1\n",
    "\n",
    "        # 左闭右闭区间\n",
    "        while(left <= right): # 因为left==right 是有意义的\n",
    "            mid = int((left + right)/2)\n",
    "            if target < nums[mid] :\n",
    "                right = mid - 1 # 因为当前的mid一定不是target了\n",
    "            elif target > nums[mid]:\n",
    "                left = mid + 1\n",
    "            else:\n",
    "                return mid\n",
    "        \n",
    "        # 分四种情况\n",
    "        # 1.目标在所有元素之前 此时left right 为[0, -1]\n",
    "        # 2.目标值等于数组中的某个元素，return mid\n",
    "        # 3.目标值介于数组中的两个元素之间。此时跳出循环的前一个条件一定是left=mid=right，接下来，若target > nums[mid] , 则 left = mid + 1，此时应该插入的位置是right + 1 = left = mid + 1， 若target < nums[mid] ，则 right = mid - 1, 但此时应该插入的位置是right + 1 = mid = left\n",
    "        # 4.目标在所有元素之后，此时left right 为[n, n-1]\n",
    "        # 所以最后return left 或者right + 1都可以，因为最后肯定是left>right,且left = right + 1\n",
    "        return left"
   ]
  },
  {
   "cell_type": "markdown",
   "id": "16e57d87-b29e-4782-8a4f-beae115a4286",
   "metadata": {
    "jp-MarkdownHeadingCollapsed": true,
    "tags": []
   },
   "source": [
    "## 34 在排序数组中查找元素的第一个和最后一个位置"
   ]
  },
  {
   "cell_type": "code",
   "execution_count": 15,
   "id": "fb071b5f-f044-4bb0-b10d-24b2e842fa14",
   "metadata": {},
   "outputs": [],
   "source": [
    "# 二分遍历找到值后再找左右界\n",
    "class Solution:\n",
    "    def searchRange(self, nums: List[int], target: int) -> List[int]:\n",
    "        left = 0\n",
    "        right = len(nums) - 1\n",
    "\n",
    "        while (left <= right): \n",
    "            mid = left + ((right - left) / 2) \n",
    "\n",
    "            if target > nums[mid]:\n",
    "                left = mid + 1\n",
    "            elif target < nums[mid]:\n",
    "                right = mid - 1\n",
    "            else:\n",
    "                s = mid - 1\n",
    "                while(s >= 0):\n",
    "                    if nums[s] == target:\n",
    "                        s = s - 1\n",
    "                    else:\n",
    "                        break\n",
    "\n",
    "                e = mid + 1\n",
    "                while(e <= len(nums) - 1):\n",
    "                    if nums[e] == target:\n",
    "                        e = e + 1\n",
    "                    else:\n",
    "                        break\n",
    "                \n",
    "                return [s+1,e-1]\n",
    "        \n",
    "        return [-1, -1]\n",
    "    \n",
    "# 采用两个二分查找分别寻找左边界和右边界\n",
    "class Solution:\n",
    "    def searchRange(self, nums: List[int], target: int) -> List[int]:\n",
    "        \n",
    "        def get_right_border(nums: List[int], target: int) -> int:\n",
    "            left = 0\n",
    "            right = len(nums) - 1\n",
    "            \n",
    "            right_border = -2\n",
    "\n",
    "            while (left <= right): \n",
    "                mid = left + ((right - left) // 2) \n",
    "\n",
    "                if target < nums[mid]:\n",
    "                    right = mid - 1\n",
    "                else: #寻找右边界, 这里找到的右边界是不包含target的\n",
    "                    left = mid + 1\n",
    "                    right_border = left # \n",
    "            \n",
    "            return right_border\n",
    "        \n",
    "        def get_left_border(nums: List[int], target: int) -> int:\n",
    "            left = 0\n",
    "            right = len(nums) - 1\n",
    "            \n",
    "            left_border = -2\n",
    "\n",
    "            while (left <= right): \n",
    "                mid = left + ((right - left) // 2) \n",
    "\n",
    "                if target > nums[mid]:\n",
    "                    left = mid + 1\n",
    "                else: #寻找右边界, 这里找到的右边界是不包含target的\n",
    "                    right = mid - 1\n",
    "                    left_border = right # \n",
    "            \n",
    "            return left_border\n",
    "\n",
    "\n",
    "        left_border = get_left_border(nums, target)\n",
    "        right_border = get_right_border(nums, target)\n",
    "        if (left_border == -2 or right_border == -2): \n",
    "            return [-1,-1]\n",
    "        if (right_border - left_border > 1):\n",
    "            return [left_border + 1, right_border-1]\n",
    "        return [-1,-1]\n"
   ]
  },
  {
   "cell_type": "markdown",
   "id": "1c065895-5890-4cfb-b176-f91634df6d83",
   "metadata": {
    "jp-MarkdownHeadingCollapsed": true,
    "tags": []
   },
   "source": [
    "# 27 移除元素"
   ]
  },
  {
   "cell_type": "code",
   "execution_count": null,
   "id": "fec6fc07-1724-4006-832a-941d215c750f",
   "metadata": {},
   "outputs": [],
   "source": [
    "# 暴力解法，双重for循环， 时间复杂度O(n^2), 空间复杂度O(1)\n",
    "class Solution:\n",
    "    def removeElement(self, nums: List[int], val: int) -> int:\n",
    "        n = len(nums)\n",
    "        \n",
    "        idx = 0\n",
    "        while(idx < n):\n",
    "            if nums[idx] == val:\n",
    "                for i in range(idx, n-1):\n",
    "                    nums[i] = nums[i + 1]\n",
    "                n -= 1 # 减少数组长度，但idx 不变，因为之前的idx已经被替换掉了\n",
    "            else:\n",
    "                idx += 1 # 不是目标值，则正常遍历\n",
    "        \n",
    "        return n\n",
    "    \n",
    "#  双指针解法\n",
    "class Solution:\n",
    "    def removeElement(self, nums: List[int], val: int) -> int:\n",
    "        n = len(nums)\n",
    "        \n",
    "        slow = 0\n",
    "        fast = 0\n",
    "        while(fast < n):\n",
    "            # 用来收集不等于的值，如果fast对应值不等于val, 则把它和slow替换，并让slow前进。\n",
    "            if (nums[fast] != val):\n",
    "                nums[slow] = nums[fast]\n",
    "                slow += 1\n",
    "            fast += 1\n",
    "        return slow\n",
    "    \n",
    "# 相向双指针，改变元素相对位置\n",
    "class Solution:\n",
    "    def removeElement(self, nums: List[int], val: int) -> int:\n",
    "        n = len(nums)\n",
    "        \n",
    "        left = 0\n",
    "        right = n - 1\n",
    "        \n",
    "        while(left <= right):\n",
    "            # left 用来记录边界，当nums[left] == val时才进行操作\n",
    "            if nums[left] == val:\n",
    "                if nums[right] != val:\n",
    "                    nums[left], nums[right] = nums[right], nums[left]\n",
    "                    left += 1\n",
    "                right -= 1 # 如果nums[right] 不是val,那么要交换位置，然后right-1，如果是val,那正好，是要去掉的对象，也要right-1\n",
    "            else:\n",
    "                left += 1 # 没找到val,就一直前进\n",
    "                \n",
    "        return left\n",
    "            "
   ]
  },
  {
   "cell_type": "markdown",
   "id": "5095d877-bb21-4b31-b47f-4a061a096848",
   "metadata": {},
   "source": [
    "## 26 删除有序数组中的重复项"
   ]
  },
  {
   "cell_type": "code",
   "execution_count": null,
   "id": "8253131d-8156-473d-b1d8-eff246cc74e2",
   "metadata": {},
   "outputs": [],
   "source": [
    "class Solution:\n",
    "    def removeDuplicates(self, nums: List[int]) -> int:\n",
    "        n = len(nums)\n",
    "        \n",
    "        slow = 0\n",
    "        fast = 0\n",
    "        tmp = nums[0]\n",
    "        while (fast < n):\n",
    "            # fast 用来保留那些不同的值,与上一题不同的是，要动态更新tmp\n",
    "            if (nums[fast] != tmp):\n",
    "                slow += 1\n",
    "                nums[slow] = nums[fast]\n",
    "                tmp = nums[fast]\n",
    "            fast += 1\n",
    "        return slow + 1 # 返回的是数组的长度, 不是数组的边界"
   ]
  },
  {
   "cell_type": "markdown",
   "id": "e520a745-fdea-4ed4-ace0-c9883ba6d1d7",
   "metadata": {},
   "source": [
    "## 283 移动零"
   ]
  },
  {
   "cell_type": "code",
   "execution_count": null,
   "id": "1de40d23-e04f-4504-a87a-e72cc3192920",
   "metadata": {},
   "outputs": [],
   "source": [
    "# 先将0删掉，再补零\n",
    "class Solution:\n",
    "    def moveZeroes(self, nums: List[int]) -> None:\n",
    "        n = len(nums)\n",
    "        \n",
    "        slow = 0\n",
    "        fast = 0\n",
    "        while (fast < n):\n",
    "            if (nums[fast] != 0):\n",
    "                nums[slow] = nums[fast]\n",
    "                slow += 1\n",
    "            fast += 1\n",
    "        while (slow < n):\n",
    "            nums[slow] = 0\n",
    "            slow += 1\n",
    "        return\n",
    "    \n",
    "# 直接交换\n",
    "# 慢指针指向当前已处理好的序列的尾部，右指针指向待处理序列的头部。\n",
    "# 则有以下性质：\n",
    "# 1. 左指针左边均为非零数。 2. 右指针左边直到左指针处均为0\n",
    "class Solution:\n",
    "    def moveZeroes(self, nums: List[int]) -> None:\n",
    "        n = len(nums)\n",
    "        \n",
    "        slow = 0\n",
    "        fast = 0\n",
    "        while (fast < n):\n",
    "            if (nums[fast] != 0):\n",
    "                nums[slow], nums[fast] = nums[fast], nums[slow] # 交换后，每一步都会停下来\n",
    "                slow += 1\n",
    "            fast += 1\n",
    "        return"
   ]
  },
  {
   "cell_type": "markdown",
   "id": "08fadc51-65fc-47d0-a808-5feca1e1a02f",
   "metadata": {},
   "source": [
    "## 844 比较含退格的字符串"
   ]
  },
  {
   "cell_type": "code",
   "execution_count": null,
   "id": "97e3919c-f3ce-4379-9e00-e2845c4cce17",
   "metadata": {},
   "outputs": [],
   "source": [
    "class Solution:\n",
    "    def backspaceCompare(self, s: str, t: str) -> bool:\n",
    "        list_s, list_t = list(s), list(t)\n",
    "        idx_a = 0\n",
    "        \n",
    "        for i in range(len(list_s)):\n",
    "            if list_s[i] != '#':\n",
    "                list_s[idx_a] = list_s[i]\n",
    "                idx_a += 1\n",
    "            else:\n",
    "                idx_a -= 1 if idx_a > 0 else 0\n",
    "                \n",
    "        idx_b = 0\n",
    "        for i in range(len(list_t)):\n",
    "            if list_t[i] != '#':\n",
    "                list_t[idx_b] = list_t[i]\n",
    "                idx_b += 1\n",
    "            else:\n",
    "                idx_b -= 1 if idx_b > 0 else 0\n",
    "        return list_s[:idx_a] == list_t[:idx_b]\n"
   ]
  },
  {
   "cell_type": "markdown",
   "id": "5a1ab828-a2c6-4eb1-bd3e-b15ba078937b",
   "metadata": {
    "jp-MarkdownHeadingCollapsed": true,
    "tags": []
   },
   "source": [
    "# 977 有序数组的平方"
   ]
  },
  {
   "cell_type": "code",
   "execution_count": null,
   "id": "9f9f0983-3cc9-43c7-b12c-a39d1721a720",
   "metadata": {},
   "outputs": [],
   "source": [
    "class Solution:\n",
    "    def sortedSquares(self, nums: List[int]) -> List[int]:\n",
    "        n = len(nums)\n",
    "        \n",
    "        left = 0\n",
    "        right = n-1\n",
    "        \n",
    "        res = [0] * n # 要从后往前修改元素\n",
    "        i = n - 1\n",
    "        while(left <= right):\n",
    "            if (nums[left] ** 2 >= nums[right] ** 2):\n",
    "                res[i] = nums[left] ** 2\n",
    "                left += 1\n",
    "            else:\n",
    "                res[i] = nums[right] ** 2\n",
    "                right -= 1\n",
    "            i -= 1\n",
    "        return res"
   ]
  },
  {
   "cell_type": "markdown",
   "id": "e26114e7-a78e-46ea-9ac2-f703409de30c",
   "metadata": {
    "jp-MarkdownHeadingCollapsed": true,
    "tags": []
   },
   "source": [
    "# 209 长度最小的子数组"
   ]
  },
  {
   "cell_type": "code",
   "execution_count": null,
   "id": "18f24e0c-74ca-45e2-bb01-a1dd90f0cbeb",
   "metadata": {},
   "outputs": [],
   "source": [
    "class Solution:\n",
    "    def minSubArrayLen(self, target: int, nums: List[int]) -> int:\n",
    "        res = float(\"inf\") # 定义一个无限大的数\n",
    "\n",
    "        start = 0 # 滑动窗口的起始位置\n",
    "        num_sum = 0 # 总和\n",
    "        for end in range(len(nums)):\n",
    "            num_sum += nums[end]\n",
    "\n",
    "            while(num_sum >= target): # 这里循环的目的是找起始位置。如果窗口内的总值大于或者等于目标值，即满足条件，就要先更新res，因为题目的要求是大于等于。\n",
    "                res = min(res, end - start + 1)\n",
    "                num_sum -= nums[start]\n",
    "                start += 1\n",
    "        \n",
    "        return 0 if res == float(\"inf\") else res"
   ]
  },
  {
   "cell_type": "markdown",
   "id": "487bee2b-75cd-4deb-9ed4-72e4a2ac1487",
   "metadata": {},
   "source": [
    "## 904 水果成篮"
   ]
  },
  {
   "cell_type": "code",
   "execution_count": null,
   "id": "de57febe-8b7e-4cd0-be9f-2c2080498817",
   "metadata": {},
   "outputs": [],
   "source": [
    "class Solution:\n",
    "    def totalFruit(self, fruits: List[int]) -> int:\n",
    "        # 采用哈希表和一个中间变量来定义 当前条件\n",
    "        buckets = defaultdict(int)\n",
    "        class_cnt = 0\n",
    "\n",
    "        res = 0\n",
    "        start = 0\n",
    "\n",
    "        for end in range(len(fruits)):\n",
    "            #  判断当前是否满足条件\n",
    "            if buckets[fruits[end]] == 0:\n",
    "                class_cnt += 1\n",
    "            buckets[fruits[end]] += 1\n",
    "\n",
    "            # 开始更新左指针\n",
    "            while class_cnt > 2:\n",
    "                if buckets[fruits[start]] == 1:\n",
    "                    class_cnt -= 1\n",
    "                buckets[fruits[start]] -= 1\n",
    "                start += 1\n",
    "\n",
    "            # 满足条件了，要更新结果了\n",
    "            res = max(res, end - start + 1)\n",
    "        return res "
   ]
  },
  {
   "cell_type": "markdown",
   "id": "e93e2931-3fd1-4c2c-8fd0-dbedd3a67f0e",
   "metadata": {},
   "source": [
    "## 76 最小覆盖子串"
   ]
  },
  {
   "cell_type": "code",
   "execution_count": 8,
   "id": "faa58169-2252-427d-8ef7-d479d490a263",
   "metadata": {},
   "outputs": [],
   "source": [
    "class Solution:\n",
    "    def minWindow(self, s: str, t: str) -> str:\n",
    "        \n",
    "        # 滑动窗口\n",
    "        n_s = len(s)\n",
    "        n_t = len(t)\n",
    "\n",
    "        d_res = defaultdict(int)\n",
    "        d_t = defaultdict(int)\n",
    "        l_t = list(set(list(t)))\n",
    "\n",
    "        for i in t:\n",
    "            d_t[i] += 1\n",
    "\n",
    "        res = s+t # 初始化一个res，保证其长度超过原来s的长度，因为后面要取长度最短的。\n",
    "\n",
    "        start = 0\n",
    "        for end in range(n_s):\n",
    "            # 判断条件，将右指针的元素加进来\n",
    "            d_res[s[end]] += 1\n",
    "            \n",
    "            # 判断d_t 中所有的元素的个数是不是都小于等于d_res\n",
    "            while(False not in [d_res[i]>= d_t[i] for i in l_t]): \n",
    "                # 取最小的窗口结果\n",
    "                if len(res) >= (end - start + 1):\n",
    "                    res = s[start: end+1]\n",
    "                # 滑动左指针\n",
    "                d_res[s[start]] -= 1\n",
    "                start += 1\n",
    "\n",
    "        return res if len(res) <= n_s else ''"
   ]
  },
  {
   "cell_type": "markdown",
   "id": "4f9ae397",
   "metadata": {},
   "source": [
    "## 螺旋矩阵"
   ]
  },
  {
   "cell_type": "code",
   "execution_count": null,
   "id": "8db2f39e",
   "metadata": {},
   "outputs": [],
   "source": [
    "class Solution:\n",
    "    def generateMatrix(self, n: int) -> List[List[int]]:\n",
    "        # 每行一定是n个\n",
    "        res = [[0]*n for _ in range(n)]\n",
    "        loop = floor(n / 2)\n",
    "        loop_start_x, loop_start_y = 0, 0 # 每一个loop的起始\n",
    "        offset = 1 # 要控制每条边遍历的长度，每loop一次，要对应加1\n",
    "        count = 1\n",
    "        for _ in range(loop):\n",
    "\n",
    "            # 首行从左到右\n",
    "            for j in range(loop_start_y, n - offset):\n",
    "                res[loop_start_x][j] = count\n",
    "                count += 1\n",
    "            # 最右列从上到下\n",
    "            for i in range(loop_start_x, n - offset):\n",
    "                res[i][n - offset] = count\n",
    "                count += 1\n",
    "            # 末行从右到左\n",
    "            for j in range(n - offset, loop_start_y, -1):\n",
    "                res[n - offset][j] = count\n",
    "                count += 1\n",
    "            # 最左列从下到上\n",
    "            for i in range(n - offset, loop_start_x, -1):\n",
    "                res[i][loop_start_y] = count\n",
    "                count += 1\n",
    "\n",
    "            # 更新loop以及offset\n",
    "            offset += 1\n",
    "            loop_start_x += 1\n",
    "            loop_start_y += 1\n",
    "\n",
    "        if n % 2 == 1:\n",
    "            res[loop_start_x][loop_start_y] = count\n",
    "        return res"
   ]
  },
  {
   "cell_type": "markdown",
   "id": "ef37caf2-4c81-4f33-94e8-c0f489e58ae7",
   "metadata": {},
   "source": [
    "# 链表"
   ]
  },
  {
   "cell_type": "markdown",
   "id": "7a145462-6d41-4025-8688-2e532c072f3c",
   "metadata": {
    "jp-MarkdownHeadingCollapsed": true,
    "tags": []
   },
   "source": [
    "## 203 移除链表元素"
   ]
  },
  {
   "cell_type": "code",
   "execution_count": null,
   "id": "1df328af-d184-437c-a3f9-1bb40ac0b10d",
   "metadata": {},
   "outputs": [],
   "source": [
    "# 添加虚拟节点\n",
    "# Definition for singly-linked list.\n",
    "# class ListNode:\n",
    "#     def __init__(self, val=0, next=None):\n",
    "#         self.val = val\n",
    "#         self.next = next\n",
    "class Solution:\n",
    "    def removeElements(self, head: Optional[ListNode], val: int) -> Optional[ListNode]:\n",
    "        dummy_node = ListNode(0, head)\n",
    "        st = dummy_node\n",
    "        while (st.next != None):\n",
    "            if st.next.val == val: # 如果下一个正好是要删除的值\n",
    "                st.next = st.next.next # 执行删除操作\n",
    "            else:  # 注意这里是else， 因为删除了之后，下一个节点又重置了，所以要再一次判断，不能往后移动\n",
    "                st = st.next\n",
    "        return dummy_node.next\n"
   ]
  },
  {
   "cell_type": "markdown",
   "id": "e9cda38a-00af-4e5a-9f14-93fa92196dc9",
   "metadata": {
    "jp-MarkdownHeadingCollapsed": true,
    "tags": []
   },
   "source": [
    "## 707设计链表"
   ]
  },
  {
   "cell_type": "code",
   "execution_count": null,
   "id": "2d81f356-9159-4885-8c60-b64d156770e3",
   "metadata": {},
   "outputs": [],
   "source": [
    "class Node(object):\n",
    "    def __init__(self, val=0):\n",
    "        self.val = val\n",
    "        self.next = None\n",
    "\n",
    "\n",
    "class MyLinkedList:\n",
    "\n",
    "    def __init__(self):\n",
    "        self.head = Node() # 是一个虚结点，不作数的\n",
    "        self.size = 0  # 设置一个链表，用于记录链表的长度，增加和删除时都要记得更新\n",
    "    \n",
    "    # index 是从0开始\n",
    "    def get(self, index: int) -> int:\n",
    "        if index < 0 or index >= self.size: # 如果给的超过范围返回-1\n",
    "            return -1\n",
    "        cur = self.head.next # 第0个节点\n",
    "        while(index): # 遍历到第index个\n",
    "            cur = cur.next\n",
    "            index -= 1\n",
    "        return cur.val\n",
    "\n",
    "    def addAtHead(self, val: int) -> None:\n",
    "        head = Node(val)\n",
    "        head.next = self.head.next\n",
    "        self.head.next = head\n",
    "        self.size += 1\n",
    "\n",
    "    def addAtTail(self, val: int) -> None:\n",
    "        Tail = Node(val)\n",
    "        cur = self.head\n",
    "        while(cur.next):\n",
    "            cur = cur.next\n",
    "        cur.next = Tail\n",
    "        self.size += 1\n",
    "\n",
    "    def addAtIndex(self, index: int, val: int) -> None:\n",
    "        if index < 0:\n",
    "            self.addAtHead(val) # 函数里面size就+1了\n",
    "            return\n",
    "        elif index == self.size:\n",
    "            self.addAtTail(val)\n",
    "            return\n",
    "        elif index > self.size:\n",
    "            return\n",
    "\n",
    "        IndexNode = Node(val)\n",
    "        pre = self.head\n",
    "        while(index):\n",
    "            pre = pre.next\n",
    "            index -= 1\n",
    "        IndexNode.next = pre.next\n",
    "        pre.next = IndexNode\n",
    "        self.size += 1\n",
    "\n",
    "    def deleteAtIndex(self, index: int) -> None:\n",
    "        if index < 0 or index >= self.size:\n",
    "            return\n",
    "        pre = self.head\n",
    "        while(index):\n",
    "            pre = pre.next\n",
    "            index -= 1\n",
    "        pre.next = pre.next.next\n",
    "        self.size -= 1"
   ]
  },
  {
   "cell_type": "markdown",
   "id": "cc48fd04-e00d-4a51-8045-f0df48131bb9",
   "metadata": {
    "jp-MarkdownHeadingCollapsed": true,
    "tags": []
   },
   "source": [
    "## 206 反转链表"
   ]
  },
  {
   "cell_type": "code",
   "execution_count": null,
   "id": "4ae36195-4594-4c62-8f04-647324abce5c",
   "metadata": {},
   "outputs": [],
   "source": [
    "# Definition for singly-linked list.\n",
    "class ListNode:\n",
    "    def __init__(self, val=0, next=None):\n",
    "        self.val = val\n",
    "        self.next = next\n",
    "\n",
    "# 双指针解法\n",
    "class Solution:\n",
    "    def reverseList(self, head: Optional[ListNode]) -> Optional[ListNode]:\n",
    "        cur = head\n",
    "        pre = None\n",
    "        while(cur): # 这里一定要判断的是cur，不是cur.next，如果是cur.next则最后的一个节点还未被反转\n",
    "            tmp = cur.next # 存储下一个节点\n",
    "            cur.next = pre # 反转\n",
    "            pre = cur # 更新pre\n",
    "            cur = tmp #更新cur\n",
    "        return pre # 此时最后一个节点被处理，cur已经往前变为None了，所以需要返回pre\n",
    "# 递归解法\n",
    "class Solution:\n",
    "    def reverseList(self, head: Optional[ListNode]) -> Optional[ListNode]:\n",
    "        def reverse(pre, cur):\n",
    "            if not cur: # 定义终止条件\n",
    "                return pre\n",
    "            tmp = cur.next # 记录下一个节点\n",
    "            cur.next = pre # 反转\n",
    "            return reverse(cur, tmp) # 更新pre与cur\n",
    "        return reverse(None, head)\n",
    "    "
   ]
  },
  {
   "cell_type": "markdown",
   "id": "12c6d70d-bfa3-4ba5-94a1-31313bc59797",
   "metadata": {
    "jp-MarkdownHeadingCollapsed": true,
    "tags": []
   },
   "source": [
    "## 24 两两交换链表中的节点"
   ]
  },
  {
   "cell_type": "code",
   "execution_count": null,
   "id": "c8bee6eb-77f5-42e7-ab74-6a1e1239be04",
   "metadata": {},
   "outputs": [],
   "source": [
    "# Definition for singly-linked list.\n",
    "class ListNode:\n",
    "    def __init__(self, val=0, next=None):\n",
    "        self.val = val\n",
    "        self.next = next\n",
    "        \n",
    "class Solution:\n",
    "    def swapPairs(self, head: Optional[ListNode]) -> Optional[ListNode]:\n",
    "        res = ListNode(next=head)# 定义头节点，这样返回的时候只返回res.next即可\n",
    "        pre = res\n",
    "\n",
    "        # 必须要有pre的下一个和下下一个才可以交换\n",
    "        while (pre.next and pre.next.next):\n",
    "            cur = pre.next  # 第一个\n",
    "            post = pre.next.next  # 第二个\n",
    "\n",
    "            cur.next = post.next\n",
    "            pre.next = post\n",
    "            post.next = cur\n",
    "\n",
    "            pre = cur\n",
    "        return res.next"
   ]
  },
  {
   "cell_type": "markdown",
   "id": "e0daddc4-c89f-4109-8cbd-86651e48ec4b",
   "metadata": {
    "jp-MarkdownHeadingCollapsed": true,
    "tags": []
   },
   "source": [
    "## 19 删除链表的倒数第N个节点"
   ]
  },
  {
   "cell_type": "code",
   "execution_count": null,
   "id": "8d4faac0-d4cb-4c18-8709-373fb3fb1f45",
   "metadata": {},
   "outputs": [],
   "source": [
    "class ListNode:\n",
    "    def __init__(self, val=0, next=None):\n",
    "        self.val = val\n",
    "        self.next = next\n",
    "        \n",
    "class Solution:\n",
    "    def removeNthFromEnd(self, head: Optional[ListNode], n: int) -> Optional[ListNode]:\n",
    "        # 双指针，间隔n个即可\n",
    "        dummy = ListNode()\n",
    "        dummy.next = head\n",
    "\n",
    "        slow, fast = dummy, dummy\n",
    "        #设置n+1步主要为了让slow到达倒数n+1个节点\n",
    "        while (n >= 0): # fast先往前走n+1步, 条件设置为 n>=0， 则前进n+1步。如果设置为while(n)，则只有n步            fast = fast.next\n",
    "            fast = fast.next\n",
    "            n -= 1\n",
    "        while (fast != None):\n",
    "            fast = fast.next\n",
    "            slow = slow.next\n",
    "\n",
    "        slow.next = slow.next.next\n",
    "        return dummy.next"
   ]
  },
  {
   "cell_type": "markdown",
   "id": "dba4b282-911d-4259-9a58-197deebbeaef",
   "metadata": {
    "jp-MarkdownHeadingCollapsed": true,
    "tags": []
   },
   "source": [
    "## 面试题02 07.链表相交"
   ]
  },
  {
   "cell_type": "code",
   "execution_count": null,
   "id": "ec1ac7f2-a649-4430-b181-1dd3437a77cc",
   "metadata": {},
   "outputs": [],
   "source": [
    "class ListNode:\n",
    "    def __init__(self, x):\n",
    "        self.val = x\n",
    "        self.next = None\n",
    "\n",
    "class Solution:\n",
    "    def getIntersectionNode(self, headA: ListNode, headB: ListNode) -> ListNode:\n",
    "        lenA = 0\n",
    "        lenB = 0\n",
    "        cur = headA\n",
    "        while (cur):\n",
    "            cur = cur.next\n",
    "            lenA += 1\n",
    "        cur = headB\n",
    "        while (cur):\n",
    "            cur = cur.next\n",
    "            lenB += 1\n",
    "        # 这里要重新赋值下\n",
    "        curA, curB = headA, headB\n",
    "        # 让A成为最长链表，lenA为其长度\n",
    "        if lenA < lenB:\n",
    "            curA, curB = curB, curA\n",
    "            lenA, lenB = lenB, lenA\n",
    "        # 将其尾部对齐\n",
    "        diff = lenA - lenB\n",
    "        while (diff):\n",
    "            curA = curA.next\n",
    "            diff -= 1\n",
    "        while (curA):\n",
    "            if curA == curB:\n",
    "                return curB\n",
    "            curA = curA.next\n",
    "            curB = curB.next\n",
    "        return None"
   ]
  },
  {
   "cell_type": "markdown",
   "id": "e5492c46-1055-4f1d-ae9e-dc70b26befe5",
   "metadata": {
    "jp-MarkdownHeadingCollapsed": true,
    "tags": []
   },
   "source": [
    "## 142 环形链表"
   ]
  },
  {
   "cell_type": "code",
   "execution_count": null,
   "id": "dc298f06-7fbb-4b65-9d3f-6599e1880a71",
   "metadata": {},
   "outputs": [],
   "source": [
    "class ListNode:\n",
    "    def __init__(self, x):\n",
    "        self.val = x\n",
    "        self.next = None\n",
    "\n",
    "class Solution:\n",
    "    def detectCycle(self, head: Optional[ListNode]) -> Optional[ListNode]:\n",
    "        # 两个问题：检测是否有环以及环的入口在哪里\n",
    "        # 1.检测有环：快慢两个指针，快指针走两个，慢指针走1个，快指针一定先进入环内，则相遇一定是在环内。\n",
    "        # 2.环的入口在哪里： 两个指针分别从相遇的地方以及起始位置运行，重合的位置一定是环的入口\n",
    "        # 快慢指针相遇时，慢指针一定是第一次进入该圈，快指针一定是第二次进入该圈。因为快指针相对慢指针是每次多走一个，所以遍历一圈一定能追上。\n",
    "        # x为环之前的部分，y为环开始到相遇位置的部分，z为相遇位置的部分到环结束的部分，也就是x+y+z为整个链表的长度。\n",
    "        # 已知相遇的位置时慢指针走了x+y，快指针走了x+2y+z，且快指针走的步数时慢指针的两倍,所以2x+2y = x+2y+z， 所以z = x,即两个指针分别从相遇的地方以及起始位置运行，重合的位置一定是环的入口 \n",
    "\n",
    "        slow, fast = head, head\n",
    "        while fast and fast.next:\n",
    "            fast = fast.next.next\n",
    "            slow = slow.next\n",
    "            # 如果相遇，则分别从相遇的地方以及起始位置运行，重合的位置一定是环的入口\n",
    "            if fast == slow:\n",
    "                p = head\n",
    "                q = slow\n",
    "                while p != q:\n",
    "                    p = p.next\n",
    "                    q = q.next\n",
    "                return p\n",
    "        return None"
   ]
  },
  {
   "cell_type": "markdown",
   "id": "a3c8ee05-3453-4f97-aa39-38625b417657",
   "metadata": {},
   "source": [
    "# 哈希表"
   ]
  },
  {
   "cell_type": "markdown",
   "id": "bbbd329f-d28c-4b9c-a5fb-9156f246f823",
   "metadata": {
    "tags": []
   },
   "source": [
    "## 242 有效的字母异位词"
   ]
  },
  {
   "cell_type": "code",
   "execution_count": null,
   "id": "08aa630e-2e8e-4bae-a6c5-e95198d6e252",
   "metadata": {},
   "outputs": [],
   "source": [
    "class Solution:\n",
    "    def isAnagram(self, s: str, t: str) -> bool:\n",
    "        record = [0] * 26\n",
    "        for i in s:\n",
    "            record[ord(i) - ord('a')] += 1 # ord 主要用来返回字符对应的ascii码\n",
    "        for i in t:\n",
    "            record[ord(i) - ord('a')] -= 1\n",
    "        for i in record:\n",
    "            if i != 0:\n",
    "                return False\n",
    "        return True"
   ]
  },
  {
   "cell_type": "markdown",
   "id": "5a8c8ed8-cd5b-452d-922a-aa9be26d1e3f",
   "metadata": {},
   "source": [
    "## 383 赎金信"
   ]
  },
  {
   "cell_type": "code",
   "execution_count": null,
   "id": "5441c1a0-3e5a-40dc-ae83-1caf815182fa",
   "metadata": {},
   "outputs": [],
   "source": [
    "class Solution:\n",
    "    def canConstruct(self, ransomNote: str, magazine: str) -> bool:\n",
    "        record = [0]*26\n",
    "        for i in magazine:\n",
    "            record[ord(i) - ord('a')] += 1\n",
    "        for i in ransomNote:\n",
    "            record[ord(i) - ord('a')] -= 1\n",
    "        for i in record:\n",
    "            if i < 0:\n",
    "                return False\n",
    "        return True"
   ]
  },
  {
   "cell_type": "markdown",
   "id": "6e92bcb1-2084-48f8-b888-678fa583a1e2",
   "metadata": {},
   "source": [
    "## 49 字母异位词分组"
   ]
  },
  {
   "cell_type": "code",
   "execution_count": null,
   "id": "fdb9359a-438b-4d6b-8394-71767fe2b8a8",
   "metadata": {},
   "outputs": [],
   "source": [
    "class Solution:\n",
    "    def groupAnagrams(self, strs: List[str]) -> List[List[str]]:\n",
    "        # 将每一个str进行排序，则str的key就一样了\n",
    "        from collections import defaultdict\n",
    "\n",
    "        res_d = defaultdict(list)\n",
    "        for str in strs:\n",
    "            list_str = list(str)\n",
    "            list_str.sort()\n",
    "            sort_str = ''.join(list_str)\n",
    "\n",
    "            res_d[sort_str].append(str)\n",
    "\n",
    "        res = []\n",
    "        for k, v in res_d.items():\n",
    "            res.append(v)\n",
    "        return res\n"
   ]
  },
  {
   "cell_type": "markdown",
   "id": "cd50500a-f2a2-4fc0-be00-b4e2c43ce6f6",
   "metadata": {},
   "source": [
    "## 438 找到字符串中所有字母异位词"
   ]
  },
  {
   "cell_type": "code",
   "execution_count": null,
   "id": "3438952a-7b87-4ef8-8a5e-34bff263cadb",
   "metadata": {},
   "outputs": [],
   "source": [
    "# 解法1： 暴力解法\n",
    "class Solution:\n",
    "    def findAnagrams(self, s: str, p: str) -> List[int]:\n",
    "        # 暴力解法\n",
    "        res = []\n",
    "        len_s = len(s)\n",
    "        len_p = len(p)\n",
    "\n",
    "        if len_s < len_p:\n",
    "            return res\n",
    "\n",
    "        p_list = list(p)\n",
    "        p_list.sort()\n",
    "        p_sort = ''.join(p_list)\n",
    "\n",
    "        for i in range(len_s - len_p + 1):\n",
    "            window_str = s[i: i + len_p]\n",
    "            window_str_list = list(window_str)\n",
    "            window_str_list.sort()\n",
    "            window_str_sort = ''.join(window_str_list)\n",
    "\n",
    "            if window_str_sort == p_sort:\n",
    "                res.append(i)\n",
    "\n",
    "        return res\n",
    "# 解法2：采用滑动窗口+哈希，滑动窗口来维护一个哈希数组，这样不用针对每个窗口重新排序处理，优化耗时\n",
    "class Solution:\n",
    "    def findAnagrams(self, s: str, p: str) -> List[int]:\n",
    "        # 滑动窗口+哈希\n",
    "        record_p = [0] * 26\n",
    "        record_s = [0] * 26\n",
    "        len_s = len(s)\n",
    "        len_p = len(p)\n",
    "        res = []\n",
    "\n",
    "        for i in p:\n",
    "            record_p[ord(i) - ord('a')] += 1\n",
    "        # 单独处理开头部分\n",
    "        for i in s[:len_p]:\n",
    "            record_s[ord(i) - ord('a')] += 1\n",
    "        if record_s == record_p:\n",
    "            res.append(0)\n",
    "\n",
    "        for i in range(len_p, len_s):\n",
    "            # 先更新字典，再比较。所以是从1开始的\n",
    "            record_s[ord(s[i - len_p]) - ord('a')] -= 1\n",
    "            record_s[ord(s[i]) - ord('a')] += 1\n",
    "            if record_s == record_p:\n",
    "                res.append(i - len_p + 1)\n",
    "\n",
    "        return res\n"
   ]
  },
  {
   "cell_type": "markdown",
   "id": "f177a267-54c0-4604-bd10-634a7a1a7a30",
   "metadata": {},
   "source": [
    "## 349 两个数组的交集"
   ]
  },
  {
   "cell_type": "code",
   "execution_count": null,
   "id": "4adbfdaa-da29-4416-b4a4-3b43d563531b",
   "metadata": {},
   "outputs": [],
   "source": [
    "class Solution:\n",
    "    def intersection(self, nums1: List[int], nums2: List[int]) -> List[int]:\n",
    "        from collections import defaultdict\n",
    "\n",
    "        nums1_dict = defaultdict(int)\n",
    "        res = []\n",
    "\n",
    "        for i in nums1:\n",
    "            nums1_dict[i] += 1\n",
    "        for i in nums2:\n",
    "            if nums1_dict[i] != 0:\n",
    "                res.append(i)\n",
    "                nums1_dict[i] = 0\n",
    "\n",
    "        return res\n"
   ]
  },
  {
   "cell_type": "code",
   "execution_count": null,
   "id": "0355dd27-3dcc-4539-b858-243dd44ed5f9",
   "metadata": {},
   "outputs": [],
   "source": []
  },
  {
   "cell_type": "code",
   "execution_count": null,
   "id": "615e92cd-e984-4560-aecf-e02a566ece1b",
   "metadata": {},
   "outputs": [],
   "source": []
  },
  {
   "cell_type": "code",
   "execution_count": null,
   "id": "7358ab04-f0fd-4df8-bbd4-a84b35ad6fdc",
   "metadata": {},
   "outputs": [],
   "source": []
  },
  {
   "cell_type": "code",
   "execution_count": null,
   "id": "c454b3cb-eea9-4ba3-948d-32b5aac6d71b",
   "metadata": {},
   "outputs": [],
   "source": []
  },
  {
   "cell_type": "code",
   "execution_count": null,
   "id": "884b9e1d-f98a-4d36-8cb4-9437fa9a17f6",
   "metadata": {},
   "outputs": [],
   "source": []
  }
 ],
 "metadata": {
  "kernelspec": {
   "display_name": "Python 3 (ipykernel)",
   "language": "python",
   "name": "python3"
  },
  "language_info": {
   "codemirror_mode": {
    "name": "ipython",
    "version": 3
   },
   "file_extension": ".py",
   "mimetype": "text/x-python",
   "name": "python",
   "nbconvert_exporter": "python",
   "pygments_lexer": "ipython3",
   "version": "3.8.10"
  }
 },
 "nbformat": 4,
 "nbformat_minor": 5
}
